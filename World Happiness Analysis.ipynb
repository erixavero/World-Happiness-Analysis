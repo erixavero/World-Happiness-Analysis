{
 "cells": [
  {
   "cell_type": "code",
   "execution_count": 1,
   "id": "0903d5d1",
   "metadata": {
    "_cell_guid": "b1076dfc-b9ad-4769-8c92-a6c4dae69d19",
    "_uuid": "8f2839f25d086af736a60e9eeb907d3b93b6e0e5",
    "execution": {
     "iopub.execute_input": "2021-09-19T03:37:41.221737Z",
     "iopub.status.busy": "2021-09-19T03:37:41.220583Z",
     "iopub.status.idle": "2021-09-19T03:37:41.246986Z",
     "shell.execute_reply": "2021-09-19T03:37:41.246213Z",
     "shell.execute_reply.started": "2021-09-18T12:19:57.204876Z"
    },
    "papermill": {
     "duration": 0.039004,
     "end_time": "2021-09-19T03:37:41.247177",
     "exception": false,
     "start_time": "2021-09-19T03:37:41.208173",
     "status": "completed"
    },
    "tags": []
   },
   "outputs": [
    {
     "name": "stdout",
     "output_type": "stream",
     "text": [
      "/kaggle/input/world-happiness/2015.csv\n",
      "/kaggle/input/world-happiness/2017.csv\n",
      "/kaggle/input/world-happiness/2019.csv\n",
      "/kaggle/input/world-happiness/2018.csv\n",
      "/kaggle/input/world-happiness/2016.csv\n"
     ]
    }
   ],
   "source": [
    "# This Python 3 environment comes with many helpful analytics libraries installed\n",
    "# It is defined by the kaggle/python Docker image: https://github.com/kaggle/docker-python\n",
    "# For example, here's several helpful packages to load\n",
    "\n",
    "import numpy as np # linear algebra\n",
    "import pandas as pd # data processing, CSV file I/O (e.g. pd.read_csv)\n",
    "\n",
    "# Input data files are available in the read-only \"../input/\" directory\n",
    "# For example, running this (by clicking run or pressing Shift+Enter) will list all files under the input directory\n",
    "\n",
    "import os\n",
    "for dirname, _, filenames in os.walk('/kaggle/input'):\n",
    "    for filename in filenames:\n",
    "        print(os.path.join(dirname, filename))\n",
    "\n",
    "# You can write up to 20GB to the current directory (/kaggle/working/) that gets preserved as output when you create a version using \"Save & Run All\" \n",
    "# You can also write temporary files to /kaggle/temp/, but they won't be saved outside of the current session"
   ]
  },
  {
   "cell_type": "code",
   "execution_count": 2,
   "id": "fddeee6b",
   "metadata": {
    "execution": {
     "iopub.execute_input": "2021-09-19T03:37:41.270012Z",
     "iopub.status.busy": "2021-09-19T03:37:41.269323Z",
     "iopub.status.idle": "2021-09-19T03:37:41.321328Z",
     "shell.execute_reply": "2021-09-19T03:37:41.320490Z",
     "shell.execute_reply.started": "2021-09-18T12:19:57.217604Z"
    },
    "papermill": {
     "duration": 0.065818,
     "end_time": "2021-09-19T03:37:41.321494",
     "exception": false,
     "start_time": "2021-09-19T03:37:41.255676",
     "status": "completed"
    },
    "tags": []
   },
   "outputs": [],
   "source": [
    "#read data\n",
    "df2015 = pd.read_csv(\"/kaggle/input/world-happiness/2015.csv\")\n",
    "df2016 = pd.read_csv(\"/kaggle/input/world-happiness/2016.csv\")\n",
    "df2017 = pd.read_csv(\"/kaggle/input/world-happiness/2017.csv\")\n",
    "df2018 = pd.read_csv(\"/kaggle/input/world-happiness/2018.csv\")\n",
    "df2019 = pd.read_csv(\"/kaggle/input/world-happiness/2019.csv\")"
   ]
  },
  {
   "cell_type": "code",
   "execution_count": 3,
   "id": "ae65413e",
   "metadata": {
    "execution": {
     "iopub.execute_input": "2021-09-19T03:37:41.345300Z",
     "iopub.status.busy": "2021-09-19T03:37:41.344506Z",
     "iopub.status.idle": "2021-09-19T03:37:41.349271Z",
     "shell.execute_reply": "2021-09-19T03:37:41.349849Z",
     "shell.execute_reply.started": "2021-09-18T12:19:57.252319Z"
    },
    "papermill": {
     "duration": 0.019571,
     "end_time": "2021-09-19T03:37:41.350027",
     "exception": false,
     "start_time": "2021-09-19T03:37:41.330456",
     "status": "completed"
    },
    "tags": []
   },
   "outputs": [
    {
     "name": "stdout",
     "output_type": "stream",
     "text": [
      "2015 :  (158, 12)\n",
      "2016 :  (157, 13)\n",
      "2017 :  (155, 12)\n",
      "2018 :  (156, 9)\n",
      "2019 :  (156, 9)\n"
     ]
    }
   ],
   "source": [
    "#check the data\n",
    "datasets = ((\"2015\",df2015),(\"2016\",df2016),(\"2017\",df2017),(\"2018\",df2018),(\"2019\",df2019))\n",
    "for year,data in datasets:\n",
    "    print(year,\": \",data.shape)"
   ]
  },
  {
   "cell_type": "code",
   "execution_count": 4,
   "id": "9f191890",
   "metadata": {
    "execution": {
     "iopub.execute_input": "2021-09-19T03:37:41.374302Z",
     "iopub.status.busy": "2021-09-19T03:37:41.373278Z",
     "iopub.status.idle": "2021-09-19T03:37:41.388385Z",
     "shell.execute_reply": "2021-09-19T03:37:41.387786Z",
     "shell.execute_reply.started": "2021-09-18T12:19:57.259391Z"
    },
    "papermill": {
     "duration": 0.029802,
     "end_time": "2021-09-19T03:37:41.388532",
     "exception": false,
     "start_time": "2021-09-19T03:37:41.358730",
     "status": "completed"
    },
    "tags": []
   },
   "outputs": [
    {
     "name": "stdout",
     "output_type": "stream",
     "text": [
      "check NaN in 2015 \n",
      " Country                          0\n",
      "Region                           0\n",
      "Happiness Rank                   0\n",
      "Happiness Score                  0\n",
      "Standard Error                   0\n",
      "Economy (GDP per Capita)         0\n",
      "Family                           0\n",
      "Health (Life Expectancy)         0\n",
      "Freedom                          0\n",
      "Trust (Government Corruption)    0\n",
      "Generosity                       0\n",
      "Dystopia Residual                0\n",
      "dtype: int64\n",
      "check NaN in 2016 \n",
      " Country                          0\n",
      "Region                           0\n",
      "Happiness Rank                   0\n",
      "Happiness Score                  0\n",
      "Lower Confidence Interval        0\n",
      "Upper Confidence Interval        0\n",
      "Economy (GDP per Capita)         0\n",
      "Family                           0\n",
      "Health (Life Expectancy)         0\n",
      "Freedom                          0\n",
      "Trust (Government Corruption)    0\n",
      "Generosity                       0\n",
      "Dystopia Residual                0\n",
      "dtype: int64\n",
      "check NaN in 2017 \n",
      " Country                          0\n",
      "Happiness.Rank                   0\n",
      "Happiness.Score                  0\n",
      "Whisker.high                     0\n",
      "Whisker.low                      0\n",
      "Economy..GDP.per.Capita.         0\n",
      "Family                           0\n",
      "Health..Life.Expectancy.         0\n",
      "Freedom                          0\n",
      "Generosity                       0\n",
      "Trust..Government.Corruption.    0\n",
      "Dystopia.Residual                0\n",
      "dtype: int64\n",
      "check NaN in 2018 \n",
      " Overall rank                    0\n",
      "Country or region               0\n",
      "Score                           0\n",
      "GDP per capita                  0\n",
      "Social support                  0\n",
      "Healthy life expectancy         0\n",
      "Freedom to make life choices    0\n",
      "Generosity                      0\n",
      "Perceptions of corruption       1\n",
      "dtype: int64\n",
      "check NaN in 2019 \n",
      " Overall rank                    0\n",
      "Country or region               0\n",
      "Score                           0\n",
      "GDP per capita                  0\n",
      "Social support                  0\n",
      "Healthy life expectancy         0\n",
      "Freedom to make life choices    0\n",
      "Generosity                      0\n",
      "Perceptions of corruption       0\n",
      "dtype: int64\n"
     ]
    }
   ],
   "source": [
    "#check missing values\n",
    "for year, data in datasets:\n",
    "    print(\"check NaN in\", year, \"\\n\", data.isna().sum())"
   ]
  },
  {
   "cell_type": "code",
   "execution_count": 5,
   "id": "8624205b",
   "metadata": {
    "execution": {
     "iopub.execute_input": "2021-09-19T03:37:41.413949Z",
     "iopub.status.busy": "2021-09-19T03:37:41.412877Z",
     "iopub.status.idle": "2021-09-19T03:37:41.460707Z",
     "shell.execute_reply": "2021-09-19T03:37:41.461258Z"
    },
    "papermill": {
     "duration": 0.063751,
     "end_time": "2021-09-19T03:37:41.461429",
     "exception": false,
     "start_time": "2021-09-19T03:37:41.397678",
     "status": "completed"
    },
    "tags": []
   },
   "outputs": [
    {
     "name": "stdout",
     "output_type": "stream",
     "text": [
      "2015 \n",
      " <bound method NDFrame.head of          Country                           Region  Happiness Rank  \\\n",
      "0    Switzerland                   Western Europe               1   \n",
      "1        Iceland                   Western Europe               2   \n",
      "2        Denmark                   Western Europe               3   \n",
      "3         Norway                   Western Europe               4   \n",
      "4         Canada                    North America               5   \n",
      "..           ...                              ...             ...   \n",
      "153       Rwanda               Sub-Saharan Africa             154   \n",
      "154        Benin               Sub-Saharan Africa             155   \n",
      "155        Syria  Middle East and Northern Africa             156   \n",
      "156      Burundi               Sub-Saharan Africa             157   \n",
      "157         Togo               Sub-Saharan Africa             158   \n",
      "\n",
      "     Happiness Score  Standard Error  Economy (GDP per Capita)   Family  \\\n",
      "0              7.587         0.03411                   1.39651  1.34951   \n",
      "1              7.561         0.04884                   1.30232  1.40223   \n",
      "2              7.527         0.03328                   1.32548  1.36058   \n",
      "3              7.522         0.03880                   1.45900  1.33095   \n",
      "4              7.427         0.03553                   1.32629  1.32261   \n",
      "..               ...             ...                       ...      ...   \n",
      "153            3.465         0.03464                   0.22208  0.77370   \n",
      "154            3.340         0.03656                   0.28665  0.35386   \n",
      "155            3.006         0.05015                   0.66320  0.47489   \n",
      "156            2.905         0.08658                   0.01530  0.41587   \n",
      "157            2.839         0.06727                   0.20868  0.13995   \n",
      "\n",
      "     Health (Life Expectancy)  Freedom  Trust (Government Corruption)  \\\n",
      "0                     0.94143  0.66557                        0.41978   \n",
      "1                     0.94784  0.62877                        0.14145   \n",
      "2                     0.87464  0.64938                        0.48357   \n",
      "3                     0.88521  0.66973                        0.36503   \n",
      "4                     0.90563  0.63297                        0.32957   \n",
      "..                        ...      ...                            ...   \n",
      "153                   0.42864  0.59201                        0.55191   \n",
      "154                   0.31910  0.48450                        0.08010   \n",
      "155                   0.72193  0.15684                        0.18906   \n",
      "156                   0.22396  0.11850                        0.10062   \n",
      "157                   0.28443  0.36453                        0.10731   \n",
      "\n",
      "     Generosity  Dystopia Residual  \n",
      "0       0.29678            2.51738  \n",
      "1       0.43630            2.70201  \n",
      "2       0.34139            2.49204  \n",
      "3       0.34699            2.46531  \n",
      "4       0.45811            2.45176  \n",
      "..          ...                ...  \n",
      "153     0.22628            0.67042  \n",
      "154     0.18260            1.63328  \n",
      "155     0.47179            0.32858  \n",
      "156     0.19727            1.83302  \n",
      "157     0.16681            1.56726  \n",
      "\n",
      "[158 rows x 12 columns]>\n",
      "2016 \n",
      " <bound method NDFrame.head of          Country                           Region  Happiness Rank  \\\n",
      "0        Denmark                   Western Europe               1   \n",
      "1    Switzerland                   Western Europe               2   \n",
      "2        Iceland                   Western Europe               3   \n",
      "3         Norway                   Western Europe               4   \n",
      "4        Finland                   Western Europe               5   \n",
      "..           ...                              ...             ...   \n",
      "152        Benin               Sub-Saharan Africa             153   \n",
      "153  Afghanistan                    Southern Asia             154   \n",
      "154         Togo               Sub-Saharan Africa             155   \n",
      "155        Syria  Middle East and Northern Africa             156   \n",
      "156      Burundi               Sub-Saharan Africa             157   \n",
      "\n",
      "     Happiness Score  Lower Confidence Interval  Upper Confidence Interval  \\\n",
      "0              7.526                      7.460                      7.592   \n",
      "1              7.509                      7.428                      7.590   \n",
      "2              7.501                      7.333                      7.669   \n",
      "3              7.498                      7.421                      7.575   \n",
      "4              7.413                      7.351                      7.475   \n",
      "..               ...                        ...                        ...   \n",
      "152            3.484                      3.404                      3.564   \n",
      "153            3.360                      3.288                      3.432   \n",
      "154            3.303                      3.192                      3.414   \n",
      "155            3.069                      2.936                      3.202   \n",
      "156            2.905                      2.732                      3.078   \n",
      "\n",
      "     Economy (GDP per Capita)   Family  Health (Life Expectancy)  Freedom  \\\n",
      "0                     1.44178  1.16374                   0.79504  0.57941   \n",
      "1                     1.52733  1.14524                   0.86303  0.58557   \n",
      "2                     1.42666  1.18326                   0.86733  0.56624   \n",
      "3                     1.57744  1.12690                   0.79579  0.59609   \n",
      "4                     1.40598  1.13464                   0.81091  0.57104   \n",
      "..                        ...      ...                       ...      ...   \n",
      "152                   0.39499  0.10419                   0.21028  0.39747   \n",
      "153                   0.38227  0.11037                   0.17344  0.16430   \n",
      "154                   0.28123  0.00000                   0.24811  0.34678   \n",
      "155                   0.74719  0.14866                   0.62994  0.06912   \n",
      "156                   0.06831  0.23442                   0.15747  0.04320   \n",
      "\n",
      "     Trust (Government Corruption)  Generosity  Dystopia Residual  \n",
      "0                          0.44453     0.36171            2.73939  \n",
      "1                          0.41203     0.28083            2.69463  \n",
      "2                          0.14975     0.47678            2.83137  \n",
      "3                          0.35776     0.37895            2.66465  \n",
      "4                          0.41004     0.25492            2.82596  \n",
      "..                             ...         ...                ...  \n",
      "152                        0.06681     0.20180            2.10812  \n",
      "153                        0.07112     0.31268            2.14558  \n",
      "154                        0.11587     0.17517            2.13540  \n",
      "155                        0.17233     0.48397            0.81789  \n",
      "156                        0.09419     0.20290            2.10404  \n",
      "\n",
      "[157 rows x 13 columns]>\n",
      "2017 \n",
      " <bound method NDFrame.head of                       Country  Happiness.Rank  Happiness.Score  Whisker.high  \\\n",
      "0                      Norway               1            7.537      7.594445   \n",
      "1                     Denmark               2            7.522      7.581728   \n",
      "2                     Iceland               3            7.504      7.622030   \n",
      "3                 Switzerland               4            7.494      7.561772   \n",
      "4                     Finland               5            7.469      7.527542   \n",
      "..                        ...             ...              ...           ...   \n",
      "150                    Rwanda             151            3.471      3.543030   \n",
      "151                     Syria             152            3.462      3.663669   \n",
      "152                  Tanzania             153            3.349      3.461430   \n",
      "153                   Burundi             154            2.905      3.074690   \n",
      "154  Central African Republic             155            2.693      2.864884   \n",
      "\n",
      "     Whisker.low  Economy..GDP.per.Capita.    Family  \\\n",
      "0       7.479556                  1.616463  1.533524   \n",
      "1       7.462272                  1.482383  1.551122   \n",
      "2       7.385970                  1.480633  1.610574   \n",
      "3       7.426227                  1.564980  1.516912   \n",
      "4       7.410458                  1.443572  1.540247   \n",
      "..           ...                       ...       ...   \n",
      "150     3.398970                  0.368746  0.945707   \n",
      "151     3.260331                  0.777153  0.396103   \n",
      "152     3.236570                  0.511136  1.041990   \n",
      "153     2.735310                  0.091623  0.629794   \n",
      "154     2.521116                  0.000000  0.000000   \n",
      "\n",
      "     Health..Life.Expectancy.   Freedom  Generosity  \\\n",
      "0                    0.796667  0.635423    0.362012   \n",
      "1                    0.792566  0.626007    0.355280   \n",
      "2                    0.833552  0.627163    0.475540   \n",
      "3                    0.858131  0.620071    0.290549   \n",
      "4                    0.809158  0.617951    0.245483   \n",
      "..                        ...       ...         ...   \n",
      "150                  0.326425  0.581844    0.252756   \n",
      "151                  0.500533  0.081539    0.493664   \n",
      "152                  0.364509  0.390018    0.354256   \n",
      "153                  0.151611  0.059901    0.204435   \n",
      "154                  0.018773  0.270842    0.280876   \n",
      "\n",
      "     Trust..Government.Corruption.  Dystopia.Residual  \n",
      "0                         0.315964           2.277027  \n",
      "1                         0.400770           2.313707  \n",
      "2                         0.153527           2.322715  \n",
      "3                         0.367007           2.276716  \n",
      "4                         0.382612           2.430182  \n",
      "..                             ...                ...  \n",
      "150                       0.455220           0.540061  \n",
      "151                       0.151347           1.061574  \n",
      "152                       0.066035           0.621130  \n",
      "153                       0.084148           1.683024  \n",
      "154                       0.056565           2.066005  \n",
      "\n",
      "[155 rows x 12 columns]>\n",
      "2018 \n",
      " <bound method NDFrame.head of      Overall rank         Country or region  Score  GDP per capita  \\\n",
      "0               1                   Finland  7.632           1.305   \n",
      "1               2                    Norway  7.594           1.456   \n",
      "2               3                   Denmark  7.555           1.351   \n",
      "3               4                   Iceland  7.495           1.343   \n",
      "4               5               Switzerland  7.487           1.420   \n",
      "..            ...                       ...    ...             ...   \n",
      "151           152                     Yemen  3.355           0.442   \n",
      "152           153                  Tanzania  3.303           0.455   \n",
      "153           154               South Sudan  3.254           0.337   \n",
      "154           155  Central African Republic  3.083           0.024   \n",
      "155           156                   Burundi  2.905           0.091   \n",
      "\n",
      "     Social support  Healthy life expectancy  Freedom to make life choices  \\\n",
      "0             1.592                    0.874                         0.681   \n",
      "1             1.582                    0.861                         0.686   \n",
      "2             1.590                    0.868                         0.683   \n",
      "3             1.644                    0.914                         0.677   \n",
      "4             1.549                    0.927                         0.660   \n",
      "..              ...                      ...                           ...   \n",
      "151           1.073                    0.343                         0.244   \n",
      "152           0.991                    0.381                         0.481   \n",
      "153           0.608                    0.177                         0.112   \n",
      "154           0.000                    0.010                         0.305   \n",
      "155           0.627                    0.145                         0.065   \n",
      "\n",
      "     Generosity  Perceptions of corruption  \n",
      "0         0.202                      0.393  \n",
      "1         0.286                      0.340  \n",
      "2         0.284                      0.408  \n",
      "3         0.353                      0.138  \n",
      "4         0.256                      0.357  \n",
      "..          ...                        ...  \n",
      "151       0.083                      0.064  \n",
      "152       0.270                      0.097  \n",
      "153       0.224                      0.106  \n",
      "154       0.218                      0.038  \n",
      "155       0.149                      0.076  \n",
      "\n",
      "[156 rows x 9 columns]>\n",
      "2019 \n",
      " <bound method NDFrame.head of      Overall rank         Country or region  Score  GDP per capita  \\\n",
      "0               1                   Finland  7.769           1.340   \n",
      "1               2                   Denmark  7.600           1.383   \n",
      "2               3                    Norway  7.554           1.488   \n",
      "3               4                   Iceland  7.494           1.380   \n",
      "4               5               Netherlands  7.488           1.396   \n",
      "..            ...                       ...    ...             ...   \n",
      "151           152                    Rwanda  3.334           0.359   \n",
      "152           153                  Tanzania  3.231           0.476   \n",
      "153           154               Afghanistan  3.203           0.350   \n",
      "154           155  Central African Republic  3.083           0.026   \n",
      "155           156               South Sudan  2.853           0.306   \n",
      "\n",
      "     Social support  Healthy life expectancy  Freedom to make life choices  \\\n",
      "0             1.587                    0.986                         0.596   \n",
      "1             1.573                    0.996                         0.592   \n",
      "2             1.582                    1.028                         0.603   \n",
      "3             1.624                    1.026                         0.591   \n",
      "4             1.522                    0.999                         0.557   \n",
      "..              ...                      ...                           ...   \n",
      "151           0.711                    0.614                         0.555   \n",
      "152           0.885                    0.499                         0.417   \n",
      "153           0.517                    0.361                         0.000   \n",
      "154           0.000                    0.105                         0.225   \n",
      "155           0.575                    0.295                         0.010   \n",
      "\n",
      "     Generosity  Perceptions of corruption  \n",
      "0         0.153                      0.393  \n",
      "1         0.252                      0.410  \n",
      "2         0.271                      0.341  \n",
      "3         0.354                      0.118  \n",
      "4         0.322                      0.298  \n",
      "..          ...                        ...  \n",
      "151       0.217                      0.411  \n",
      "152       0.276                      0.147  \n",
      "153       0.158                      0.025  \n",
      "154       0.235                      0.035  \n",
      "155       0.202                      0.091  \n",
      "\n",
      "[156 rows x 9 columns]>\n"
     ]
    }
   ],
   "source": [
    "#find top happiest countries\n",
    "for year,data in datasets:\n",
    "    print(year,\"\\n\",data.head)"
   ]
  },
  {
   "cell_type": "code",
   "execution_count": 6,
   "id": "451a660f",
   "metadata": {
    "execution": {
     "iopub.execute_input": "2021-09-19T03:37:41.504570Z",
     "iopub.status.busy": "2021-09-19T03:37:41.495827Z",
     "iopub.status.idle": "2021-09-19T03:37:41.545690Z",
     "shell.execute_reply": "2021-09-19T03:37:41.545011Z",
     "shell.execute_reply.started": "2021-09-18T12:21:02.648427Z"
    },
    "papermill": {
     "duration": 0.074759,
     "end_time": "2021-09-19T03:37:41.545826",
     "exception": false,
     "start_time": "2021-09-19T03:37:41.471067",
     "status": "completed"
    },
    "tags": []
   },
   "outputs": [
    {
     "name": "stdout",
     "output_type": "stream",
     "text": [
      "2015\n",
      "['Economy (GDP per Capita)', 78.09655268660211]\n",
      "['Family', 74.06051972367848]\n",
      "['Health (Life Expectancy)', 72.41995951050694]\n",
      "['Freedom', 56.821090419251796]\n",
      "['Dystopia Residual', 53.04735177821585]\n",
      "['Trust (Government Corruption)', 39.5198583836911]\n",
      "['Generosity', 18.031852669717427]\n",
      "2016\n",
      "['Economy (GDP per Capita)', 79.03220167261063]\n",
      "['Health (Life Expectancy)', 76.5384334433668]\n",
      "['Family', 73.92515774070019]\n",
      "['Freedom', 56.68266730968935]\n",
      "['Dystopia Residual', 54.37376142982474]\n",
      "['Trust (Government Corruption)', 40.203224514729264]\n",
      "['Generosity', 15.684779640360794]\n",
      "2017\n",
      "['Economy..GDP.per.Capita.', 81.24687538866412]\n",
      "['Health..Life.Expectancy.', 78.19506247990084]\n",
      "['Family', 75.27366726961485]\n",
      "['Freedom', 57.0137193597507]\n",
      "['Dystopia.Residual', 47.53551243132995]\n",
      "['Trust..Government.Corruption.', 42.90797372221718]\n",
      "['Generosity', 15.525583911274463]\n",
      "2018\n",
      "['GDP per capita', 80.21239467301908]\n",
      "['Healthy life expectancy', 77.58136033302463]\n",
      "['Social support', 74.57601649725754]\n",
      "['Freedom to make life choices', 54.42799358332935]\n",
      "['Generosity', 13.582474708113782]\n",
      "2019\n",
      "['GDP per capita', 79.38828678781275]\n",
      "['Healthy life expectancy', 77.98831492425829]\n",
      "['Social support', 77.70577880638643]\n",
      "['Freedom to make life choices', 56.674182571998976]\n",
      "['Perceptions of corruption', 38.56130708664786]\n",
      "['Generosity', 7.582369490389652]\n"
     ]
    }
   ],
   "source": [
    "#find correlation to happiness score\n",
    "def findCorrelation(df):\n",
    "    scorecol = [col for col in df if \"score\" in col.lower()]\n",
    "    hapScore = df[scorecol[0]]\n",
    "    df=df.dropna(axis='columns')\n",
    "    df=df.select_dtypes(exclude=\"object\")\n",
    "    correlationscore = []\n",
    "    for col in df:\n",
    "        corrs = hapScore.corr(df[col])\n",
    "        if corrs < 0.99 and corrs > 0:\n",
    "            correlationscore.append([col, corrs*100])\n",
    "    correlationscore = sorted(correlationscore,key=lambda correlationscore:(correlationscore[1]), reverse=True)\n",
    "    return correlationscore\n",
    "\n",
    "correlationRanking = []\n",
    "for year, data in datasets:\n",
    "    correlationRanked = findCorrelation(data)\n",
    "    print(year)\n",
    "    print(*correlationRanked,sep=\"\\n\")\n",
    "    faf = list(map(list, zip(*correlationRanked)))\n",
    "    correlationRanking.append(faf)\n",
    "    "
   ]
  },
  {
   "cell_type": "code",
   "execution_count": 7,
   "id": "1b088e03",
   "metadata": {
    "execution": {
     "iopub.execute_input": "2021-09-19T03:37:41.589809Z",
     "iopub.status.busy": "2021-09-19T03:37:41.588712Z",
     "iopub.status.idle": "2021-09-19T03:37:42.603020Z",
     "shell.execute_reply": "2021-09-19T03:37:42.602499Z",
     "shell.execute_reply.started": "2021-09-18T12:25:44.141969Z"
    },
    "papermill": {
     "duration": 1.04719,
     "end_time": "2021-09-19T03:37:42.603171",
     "exception": false,
     "start_time": "2021-09-19T03:37:41.555981",
     "status": "completed"
    },
    "tags": []
   },
   "outputs": [
    {
     "data": {
      "image/png": "[encoded data removed]",
      "text/plain": [
       "<Figure size 432x288 with 1 Axes>"
      ]
     },
     "metadata": {
      "needs_background": "light"
     },
     "output_type": "display_data"
    },
    {
     "name": "stdout",
     "output_type": "stream",
     "text": [
      "['Economy (GDP per Capita)', 'Family', 'Health (Life Expectancy)', 'Freedom', 'Dystopia Residual', 'Trust (Government Corruption)', 'Generosity']\n"
     ]
    },
    {
     "data": {
      "image/png": "[encoded data removed]",
      "text/plain": [
       "<Figure size 432x288 with 1 Axes>"
      ]
     },
     "metadata": {
      "needs_background": "light"
     },
     "output_type": "display_data"
    },
    {
     "name": "stdout",
     "output_type": "stream",
     "text": [
      "['Economy (GDP per Capita)', 'Health (Life Expectancy)', 'Family', 'Freedom', 'Dystopia Residual', 'Trust (Government Corruption)', 'Generosity']\n"
     ]
    },
    {
     "data": {
      "image/png": "[encoded data removed]",
      "text/plain": [
       "<Figure size 432x288 with 1 Axes>"
      ]
     },
     "metadata": {
      "needs_background": "light"
     },
     "output_type": "display_data"
    },
    {
     "name": "stdout",
     "output_type": "stream",
     "text": [
      "['Economy..GDP.per.Capita.', 'Health..Life.Expectancy.', 'Family', 'Freedom', 'Dystopia.Residual', 'Trust..Government.Corruption.', 'Generosity']\n"
     ]
    },
    {
     "data": {
      "image/png": "[encoded data removed]",
      "text/plain": [
       "<Figure size 432x288 with 1 Axes>"
      ]
     },
     "metadata": {
      "needs_background": "light"
     },
     "output_type": "display_data"
    },
    {
     "name": "stdout",
     "output_type": "stream",
     "text": [
      "['GDP per capita', 'Healthy life expectancy', 'Social support', 'Freedom to make life choices', 'Generosity']\n"
     ]
    },
    {
     "data": {
      "image/png": "[encoded data removed]",
      "text/plain": [
       "<Figure size 432x288 with 1 Axes>"
      ]
     },
     "metadata": {
      "needs_background": "light"
     },
     "output_type": "display_data"
    },
    {
     "name": "stdout",
     "output_type": "stream",
     "text": [
      "['GDP per capita', 'Healthy life expectancy', 'Social support', 'Freedom to make life choices', 'Perceptions of corruption', 'Generosity']\n"
     ]
    }
   ],
   "source": [
    "#visualize correlation rank\n",
    "import matplotlib.pyplot as plt\n",
    "\n",
    "year = 2015\n",
    "for data in correlationRanking:\n",
    "    plt.bar(data[0],data[1])\n",
    "    plt.title(str(year)+' Data Correlation Ranking')\n",
    "    plt.xlabel('Attribute')\n",
    "    plt.ylabel('Correlation %')\n",
    "    plt.show()\n",
    "    print(data[0])\n",
    "    year += 1"
   ]
  },
  {
   "cell_type": "code",
   "execution_count": 8,
   "id": "deac29c6",
   "metadata": {
    "execution": {
     "iopub.execute_input": "2021-09-19T03:37:42.640236Z",
     "iopub.status.busy": "2021-09-19T03:37:42.639031Z",
     "iopub.status.idle": "2021-09-19T03:37:42.641868Z",
     "shell.execute_reply": "2021-09-19T03:37:42.642424Z",
     "shell.execute_reply.started": "2021-09-18T12:23:02.563073Z"
    },
    "papermill": {
     "duration": 0.023479,
     "end_time": "2021-09-19T03:37:42.642602",
     "exception": false,
     "start_time": "2021-09-19T03:37:42.619123",
     "status": "completed"
    },
    "tags": []
   },
   "outputs": [],
   "source": [
    "#find top happiest countries\n"
   ]
  }
 ],
 "metadata": {
  "kernelspec": {
   "display_name": "Python 3",
   "language": "python",
   "name": "python3"
  },
  "language_info": {
   "codemirror_mode": {
    "name": "ipython",
    "version": 3
   },
   "file_extension": ".py",
   "mimetype": "text/x-python",
   "name": "python",
   "nbconvert_exporter": "python",
   "pygments_lexer": "ipython3",
   "version": "3.7.10"
  },
  "papermill": {
   "default_parameters": {},
   "duration": 10.736855,
   "end_time": "2021-09-19T03:37:43.948123",
   "environment_variables": {},
   "exception": null,
   "input_path": "__notebook__.ipynb",
   "output_path": "__notebook__.ipynb",
   "parameters": {},
   "start_time": "2021-09-19T03:37:33.211268",
   "version": "2.3.3"
  }
 },
 "nbformat": 4,
 "nbformat_minor": 5
}
